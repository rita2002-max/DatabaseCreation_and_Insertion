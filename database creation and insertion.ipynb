{
 "cells": [
  {
   "cell_type": "code",
   "execution_count": 9,
   "id": "6f83efaf",
   "metadata": {},
   "outputs": [
    {
     "name": "stdout",
     "output_type": "stream",
     "text": [
      "Requirement already satisfied: psycopg2 in c:\\users\\owono\\anaconda3\\lib\\site-packages (2.9.3)\n"
     ]
    }
   ],
   "source": [
    "!pip install psycopg2"
   ]
  },
  {
   "cell_type": "code",
   "execution_count": 10,
   "id": "0f03b263",
   "metadata": {},
   "outputs": [],
   "source": [
    "import psycopg2\n"
   ]
  },
  {
   "cell_type": "markdown",
   "id": "a2c1070c",
   "metadata": {},
   "source": [
    "Create my database connection"
   ]
  },
  {
   "cell_type": "code",
   "execution_count": 12,
   "id": "47558032",
   "metadata": {},
   "outputs": [],
   "source": [
    "try:\n",
    "    conn=psycopg2.connect(\"host=localhost dbname=postgres user=postgres password=postgres\")\n",
    "\n",
    "except psycopg2.Error as e:\n",
    "    print(\"Error: could not make any connection to the database\")\n",
    "    print(e)"
   ]
  },
  {
   "cell_type": "markdown",
   "id": "2c4f4dd0",
   "metadata": {},
   "source": [
    "Use the connection to create a cursor that can be used to execute queries"
   ]
  },
  {
   "cell_type": "code",
   "execution_count": 13,
   "id": "77c50d7c",
   "metadata": {},
   "outputs": [],
   "source": [
    "try:\n",
    "    cur=conn.cursor()\n",
    "except psycopg2.Error as e:\n",
    "    print(\"Error: could not get cursor to the database\")\n",
    "    print(e)"
   ]
  },
  {
   "cell_type": "code",
   "execution_count": 14,
   "id": "65598f2c",
   "metadata": {},
   "outputs": [],
   "source": [
    "#Set automatic commit to br true in each action committed without having to call conn.commit()\n",
    "conn.set_session(autocommit=True)"
   ]
  },
  {
   "cell_type": "code",
   "execution_count": 15,
   "id": "9e014484",
   "metadata": {},
   "outputs": [],
   "source": [
    "#Create the database to work in\n",
    "\n",
    "try:\n",
    "    cur.execute(\"create database myfirstdb\")\n",
    "except psycopg2.Error as e:\n",
    "    print(\"Error: could not create the database\")\n",
    "    print(e)    "
   ]
  },
  {
   "cell_type": "code",
   "execution_count": 19,
   "id": "52bb18d2",
   "metadata": {},
   "outputs": [],
   "source": [
    "#Close the current database and reconnect to the udacity database and get a new cursor\n",
    "try:\n",
    "    conn.close()\n",
    "except psycopg2.Error as e:\n",
    "    print(\"Error: could not close the database\")\n",
    "    print(e)  \n",
    "\n",
    "try:\n",
    "    conn=psycopg2.connect(\"host=localhost dbname=myfirstdb user=postgres password=postgres\")\n",
    "\n",
    "except psycopg2.Error as e:\n",
    "    print(\"Error: could not make any connection to the database\")\n",
    "    print(e)\n",
    "    \n",
    "try:\n",
    "    cur=conn.cursor()\n",
    "except psycopg2.Error as e:\n",
    "    print(\"Error: could not get cursor to the database\")\n",
    "    print(e)\n",
    "\n",
    "conn.set_session(autocommit=True)"
   ]
  },
  {
   "cell_type": "code",
   "execution_count": 20,
   "id": "599a42c5",
   "metadata": {},
   "outputs": [],
   "source": [
    "#Create a table with data\n",
    "try:\n",
    "    cur.execute(\"CREATE TABLE IF NOT EXISTS students(student_id int, name varchar,age int,gender varchar,subject varchar,marks int);\")\n",
    "except psycopg2.Error as e:\n",
    "    print(\"Error: Issue creating table\")\n",
    "    print(e)   "
   ]
  },
  {
   "cell_type": "code",
   "execution_count": 30,
   "id": "322139f0",
   "metadata": {},
   "outputs": [],
   "source": [
    "#Insertion into tables\n",
    "try:\n",
    "    cur.execute(\"INSERT INTO students(student_id, name,age,gender,subject,marks) VALUES (1,'Raj',23,'Male','Python',85);\")\n",
    "except psycopg2.Error as e:\n",
    "    print(\"Error: Issue inserting rows\")\n",
    "    print(e) \n",
    "    \n",
    "try:\n",
    "    cur.execute(\"INSERT INTO students(student_id, name,age,gender,subject,marks) VALUES (2,'Priya',22,'Female','Python',86);\")\n",
    "except psycopg2.Error as e:\n",
    "    print(\"Error: Issue inserting rows\")\n",
    "    print(e) "
   ]
  },
  {
   "cell_type": "code",
   "execution_count": 31,
   "id": "bec99be3",
   "metadata": {},
   "outputs": [
    {
     "name": "stdout",
     "output_type": "stream",
     "text": [
      "(1, 'Raj', 23, 'Male', 'Python', 85)\n",
      "(1, 'Raj', 23, 'Male', 'Python', 85)\n",
      "(1, 'Raj', 23, 'Male', 'Python', 85)\n",
      "(2, 'Priya', 22, 'Female', 'Python', 86)\n"
     ]
    }
   ],
   "source": [
    "#validate the data inserted into the table\n",
    "\n",
    "try:\n",
    "    cur.execute(\"SELECT * FROM students;\")\n",
    "except psycopg2.Error as e:\n",
    "    print(\"Error: select *\")\n",
    "    print(e)   \n",
    "    \n",
    "row=cur.fetchone()\n",
    "\n",
    "while row:\n",
    "    print(row)\n",
    "    row=cur.fetchone()"
   ]
  },
  {
   "cell_type": "code",
   "execution_count": 32,
   "id": "cf9ab735",
   "metadata": {},
   "outputs": [],
   "source": [
    "cur.close()\n",
    "conn.close()"
   ]
  },
  {
   "cell_type": "code",
   "execution_count": null,
   "id": "65c5f0e2",
   "metadata": {},
   "outputs": [],
   "source": []
  }
 ],
 "metadata": {
  "kernelspec": {
   "display_name": "Python 3 (ipykernel)",
   "language": "python",
   "name": "python3"
  },
  "language_info": {
   "codemirror_mode": {
    "name": "ipython",
    "version": 3
   },
   "file_extension": ".py",
   "mimetype": "text/x-python",
   "name": "python",
   "nbconvert_exporter": "python",
   "pygments_lexer": "ipython3",
   "version": "3.9.7"
  }
 },
 "nbformat": 4,
 "nbformat_minor": 5
}
